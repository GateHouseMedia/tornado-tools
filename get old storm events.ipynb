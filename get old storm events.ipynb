{
 "cells": [
  {
   "cell_type": "code",
   "execution_count": 10,
   "metadata": {},
   "outputs": [],
   "source": [
    "import requests\n",
    "from pyquery import PyQuery as pq\n",
    "from tqdm import tqdm\n",
    "\n",
    "import gzip\n",
    "import csv\n",
    "import os\n",
    "from collections import OrderedDict\n",
    "import io\n",
    "import codecs"
   ]
  },
  {
   "cell_type": "code",
   "execution_count": 11,
   "metadata": {},
   "outputs": [],
   "source": [
    "datadir = \"data/\"\n",
    "filepre = \"Annual\"\n",
    "baseurl = \"https://www1.ncdc.noaa.gov/pub/data/swdi/stormevents/csvfiles/\"\n",
    "filespec = \"StormEvents_details-ftp_v1.0_d\"\n",
    "destination = \"stormeventshistorical.csv\"\n",
    "tempfile = \"this-is-a-annual-report-tempfile\""
   ]
  },
  {
   "cell_type": "code",
   "execution_count": 12,
   "metadata": {},
   "outputs": [],
   "source": [
    "html = requests.get(baseurl).content"
   ]
  },
  {
   "cell_type": "code",
   "execution_count": 13,
   "metadata": {},
   "outputs": [],
   "source": [
    "todownload = []\n",
    "for link in pq(html)(\"a\"):\n",
    "    href = pq(link)(\"a\").attr('href').strip()\n",
    "    if filespec in href:\n",
    "        todownload.append(href)"
   ]
  },
  {
   "cell_type": "code",
   "execution_count": 14,
   "metadata": {},
   "outputs": [
    {
     "name": "stderr",
     "output_type": "stream",
     "text": [
      "100%|██████████████████████████████████████████████████████████████████████████████████| 70/70 [00:01<00:00, 52.09it/s]\n"
     ]
    }
   ],
   "source": [
    "gzipfiles = []\n",
    "WorkToDo = False\n",
    "for item in tqdm(todownload):\n",
    "    filename = datadir + filepre + item.replace(filespec, \"\")\n",
    "    gzipfiles.append(filename)\n",
    "    if not os.path.exists(filename):   # If we haven't already downloaded this ...\n",
    "        WorkToDo = True\n",
    "        remoteurl = baseurl + item\n",
    "        with open(filename, \"wb\") as f:\n",
    "            f.write(requests.get(remoteurl).content)"
   ]
  },
  {
   "cell_type": "code",
   "execution_count": 15,
   "metadata": {},
   "outputs": [],
   "source": [
    "if not WorkToDo:\n",
    "    print(\"Nothing new was downloaded.\")\n",
    "    if not os.path.exists(destination):\n",
    "        WorkToDo = True\n",
    "        # If we don't have a target CSV, we still want to build that out."
   ]
  },
  {
   "cell_type": "code",
   "execution_count": 16,
   "metadata": {},
   "outputs": [
    {
     "name": "stdout",
     "output_type": "stream",
     "text": [
      "Building out report. This will take a while.\n"
     ]
    },
    {
     "name": "stderr",
     "output_type": "stream",
     "text": [
      "100%|██████████████████████████████████████████████████████████████████████████████████| 70/70 [01:51<00:00,  3.59s/it]\n"
     ]
    }
   ],
   "source": [
    "if WorkToDo:\n",
    "    print(\"Building out report. This will take a while.\")\n",
    "    headers = None\n",
    "    with open(destination, \"w\", newline=\"\") as f:\n",
    "        writer = csv.writer(f)\n",
    "        # Now we have our results file open for writing. Now we're going to open a bunch of files.\n",
    "        # GZIP processing seemed horribly slow. This is an attempt to work faster.\n",
    "        # This uses GZIP to extract a binary file, then reopen it as a text file.\n",
    "        # Using GZIP to process as a text file directly seemed to result in line-level buffering.\n",
    "        for gzipfile in tqdm(gzipfiles):\n",
    "            masterlist = []\n",
    "            with gzip.open(gzipfile, mode=\"rb\") as f:\n",
    "                with open(tempfile, \"wb\") as moarf:\n",
    "                    moarf.write(f.read())\n",
    "            with open(tempfile, \"r\") as textfilehandle:\n",
    "                reader = csv.DictReader(textfilehandle)\n",
    "                for row in reader:\n",
    "                    masterlist.append(row)\n",
    "            if not headers:\n",
    "                headers = list(row.keys())\n",
    "            writer.writerow(headers)\n",
    "            for row in masterlist:\n",
    "                writer.writerow(list(row.values()))"
   ]
  },
  {
   "cell_type": "code",
   "execution_count": 17,
   "metadata": {},
   "outputs": [],
   "source": [
    "if os.path.exists(tempfile):\n",
    "    os.remove(tempfile)"
   ]
  },
  {
   "cell_type": "code",
   "execution_count": null,
   "metadata": {},
   "outputs": [],
   "source": [
    "\n",
    "    "
   ]
  },
  {
   "cell_type": "code",
   "execution_count": null,
   "metadata": {},
   "outputs": [],
   "source": []
  }
 ],
 "metadata": {
  "kernelspec": {
   "display_name": "Python 3",
   "language": "python",
   "name": "python3"
  },
  "language_info": {
   "codemirror_mode": {
    "name": "ipython",
    "version": 3
   },
   "file_extension": ".py",
   "mimetype": "text/x-python",
   "name": "python",
   "nbconvert_exporter": "python",
   "pygments_lexer": "ipython3",
   "version": "3.7.1"
  }
 },
 "nbformat": 4,
 "nbformat_minor": 2
}
