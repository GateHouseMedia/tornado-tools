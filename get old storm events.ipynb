{
 "cells": [
  {
   "cell_type": "code",
   "execution_count": 1,
   "metadata": {},
   "outputs": [],
   "source": [
    "import requests\n",
    "from pyquery import PyQuery as pq\n",
    "from tqdm import tqdm\n",
    "\n",
    "import gzip\n",
    "import csv\n",
    "import os\n",
    "import glob\n",
    "from collections import OrderedDict\n",
    "import io\n",
    "import codecs"
   ]
  },
  {
   "cell_type": "code",
   "execution_count": 7,
   "metadata": {},
   "outputs": [],
   "source": [
    "datadir = \"data/\"\n",
    "filepre = \"Annual\"\n",
    "baseurl = \"https://www1.ncdc.noaa.gov/pub/data/swdi/stormevents/csvfiles/\"\n",
    "filespec = \"StormEvents_details-ftp_v1.0_d\"\n",
    "destination = \"stormeventshistorical.csv\"\n",
    "tempfile = \"goddamn_gzip_is_such_a_clusterfuck\""
   ]
  },
  {
   "cell_type": "code",
   "execution_count": null,
   "metadata": {},
   "outputs": [],
   "source": [
    "html = requests.get(baseurl).content"
   ]
  },
  {
   "cell_type": "code",
   "execution_count": null,
   "metadata": {},
   "outputs": [],
   "source": [
    "todownload = []\n",
    "for link in pq(html)(\"a\"):\n",
    "    href = pq(link)(\"a\").attr('href').strip()\n",
    "    if filespec in href:\n",
    "        todownload.append(href)"
   ]
  },
  {
   "cell_type": "code",
   "execution_count": null,
   "metadata": {},
   "outputs": [],
   "source": [
    "for item in tqdm(todownload):\n",
    "    filename = datadir + filepre + item.replace(filespec, \"\")\n",
    "    remoteurl = baseurl + item\n",
    "    with open(filename, \"wb\") as f:\n",
    "        f.write(requests.get(remoteurl).content)"
   ]
  },
  {
   "cell_type": "code",
   "execution_count": 3,
   "metadata": {},
   "outputs": [],
   "source": [
    "gzipfiles = list(glob.glob(datadir + filepre + \"*.gz\"))"
   ]
  },
  {
   "cell_type": "code",
   "execution_count": 8,
   "metadata": {},
   "outputs": [
    {
     "name": "stderr",
     "output_type": "stream",
     "text": [
      "100%|██████████████████████████████████████████████████████████████████████████████████| 70/70 [05:53<00:00, 42.63s/it]\n"
     ]
    }
   ],
   "source": [
    "masterlist = []\n",
    "for gzipfile in tqdm(gzipfiles):\n",
    "    # with gzip.open(gzipfile, mode='rt') as f:   # Goddamn non-conformant syntax.\n",
    "    # with gzip.open(gzipfile, mode='rb') as f:   # Goddamn non-conformant syntax.\n",
    "    with gzip.open(gzipfile, mode=\"rb\") as f:\n",
    "        with open(tempfile, \"wb\") as moarf:\n",
    "            moarf.write(f.read())\n",
    "        # textfilehandle = io.TextIOWrapper(f, buffer=50*1000*1000)\n",
    "    with open(tempfile, \"r\") as textfilehandle:\n",
    "        reader = csv.DictReader(textfilehandle)\n",
    "        for row in reader:\n",
    "            masterlist.append(row)"
   ]
  },
  {
   "cell_type": "code",
   "execution_count": 10,
   "metadata": {},
   "outputs": [],
   "source": [
    "if os.path.exists(tempfile):\n",
    "    os.remove(tempfile)"
   ]
  },
  {
   "cell_type": "code",
   "execution_count": 9,
   "metadata": {},
   "outputs": [],
   "source": [
    "with open(destination, \"w\", newline=\"\") as f:\n",
    "    writer = csv.writer(f)\n",
    "    writer.writerow(list(row.keys()))\n",
    "    for row in masterlist:\n",
    "        writer.writerow(list(row.values()))\n",
    "    "
   ]
  },
  {
   "cell_type": "code",
   "execution_count": null,
   "metadata": {},
   "outputs": [],
   "source": []
  }
 ],
 "metadata": {
  "kernelspec": {
   "display_name": "Python 3",
   "language": "python",
   "name": "python3"
  },
  "language_info": {
   "codemirror_mode": {
    "name": "ipython",
    "version": 3
   },
   "file_extension": ".py",
   "mimetype": "text/x-python",
   "name": "python",
   "nbconvert_exporter": "python",
   "pygments_lexer": "ipython3",
   "version": "3.7.1"
  }
 },
 "nbformat": 4,
 "nbformat_minor": 2
}
