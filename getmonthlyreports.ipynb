{
 "cells": [
  {
   "cell_type": "code",
   "execution_count": 33,
   "metadata": {},
   "outputs": [],
   "source": [
    "import requests\n",
    "from pyquery import PyQuery as pq\n",
    "from tqdm import tqdm\n",
    "\n",
    "import glob\n",
    "import csv\n",
    "import os\n",
    "from collections import OrderedDict"
   ]
  },
  {
   "cell_type": "code",
   "execution_count": 34,
   "metadata": {},
   "outputs": [],
   "source": [
    "baseurlpre = \"https://www.spc.noaa.gov/climo/online/monthly/\"\n",
    "baseurlpost = \"_summary.html\"\n",
    "datadir = \"data/\"\n",
    "headers = [\"Day\", \"Total\", \"Torn\", \"Hail\", \"Wind\"]"
   ]
  },
  {
   "cell_type": "code",
   "execution_count": 10,
   "metadata": {},
   "outputs": [],
   "source": [
    "stufftopull = []\n",
    "for myyear in range(0, 19 + 1):    # Ends in 2019\n",
    "    for mymonth in range(0, 12 + 1):   # Ends in December\n",
    "        stufftopull.append(f\"{myyear:02d}{mymonth:02d}\")"
   ]
  },
  {
   "cell_type": "code",
   "execution_count": 12,
   "metadata": {},
   "outputs": [
    {
     "name": "stderr",
     "output_type": "stream",
     "text": [
      "100%|████████████████████████████████████████████████████████████████████████████████| 260/260 [03:12<00:00,  3.07it/s]\n"
     ]
    }
   ],
   "source": [
    "for yearmo in tqdm(stufftopull):\n",
    "    filename = f\"{datadir}Monthly{yearmo}.html\"\n",
    "    remoteurl = f\"{baseurlpre}{yearmo}{baseurlpost}\"\n",
    "    r = requests.get(remoteurl)\n",
    "    if r.status_code == 200:   # if we got a good file\n",
    "        with open(filename, \"wb\") as f:\n",
    "            f.write(r.content)\n"
   ]
  },
  {
   "cell_type": "code",
   "execution_count": 42,
   "metadata": {},
   "outputs": [],
   "source": [
    "masterlist = []\n",
    "monthlyreports = list(glob.glob(datadir + \"Monthly*.html\"))\n",
    "for monthlyreport in monthlyreports:\n",
    "    with open(monthlyreport, \"r\") as f:\n",
    "        html = f.read()\n",
    "    table = pq(html)(\"table\")[8]\n",
    "    for row in pq(table)(\"tr\")[1:-1]:    # Skip header and total row\n",
    "        line = OrderedDict()\n",
    "        datetemp = pq(pq(row)(\"td\")[0]).text().strip().split(\"/\")\n",
    "        line['Date'] = f\"{datetemp[2]}-{datetemp[0]}-{datetemp[1]}\"\n",
    "        for i, cell in enumerate(pq(row)(\"td\")[1:]):   \n",
    "            line[headers[i + 1]] = int(pq(cell).text().strip())\n",
    "        masterlist.append(line)"
   ]
  },
  {
   "cell_type": "code",
   "execution_count": 43,
   "metadata": {},
   "outputs": [],
   "source": [
    "with open(\"tallies.csv\", \"w\", newline=\"\") as f:\n",
    "    writer = csv.writer(f)\n",
    "    writer.writerow(headers)\n",
    "    for row in masterlist:\n",
    "        writer.writerow(list(row.values()))"
   ]
  },
  {
   "cell_type": "code",
   "execution_count": 41,
   "metadata": {},
   "outputs": [
    {
     "name": "stdout",
     "output_type": "stream",
     "text": [
      "[OrderedDict([('Date', '2019-05-01'), ('Total', 83), ('Torn', 9), ('Hail', 44), ('Wind', 30)]), OrderedDict([('Date', '2019-05-02'), ('Total', 69), ('Torn', 17), ('Hail', 15), ('Wind', 37)]), OrderedDict([('Date', '2019-05-03'), ('Total', 85), ('Torn', 6), ('Hail', 32), ('Wind', 47)]), OrderedDict([('Date', '2019-05-04'), ('Total', 97), ('Torn', 5), ('Hail', 37), ('Wind', 55)]), OrderedDict([('Date', '2019-05-05'), ('Total', 184), ('Torn', 23), ('Hail', 101), ('Wind', 60)]), OrderedDict([('Date', '2019-05-06'), ('Total', 117), ('Torn', 4), ('Hail', 70), ('Wind', 43)]), OrderedDict([('Date', '2019-05-07'), ('Total', 108), ('Torn', 24), ('Hail', 54), ('Wind', 30)]), OrderedDict([('Date', '2019-05-08'), ('Total', 75), ('Torn', 15), ('Hail', 11), ('Wind', 49)]), OrderedDict([('Date', '2019-05-09'), ('Total', 122), ('Torn', 5), ('Hail', 40), ('Wind', 77)]), OrderedDict([('Date', '2019-05-10'), ('Total', 10), ('Torn', 0), ('Hail', 2), ('Wind', 8)]), OrderedDict([('Date', '2019-05-11'), ('Total', 51), ('Torn', 2), ('Hail', 4), ('Wind', 45)]), OrderedDict([('Date', '2019-05-12'), ('Total', 50), ('Torn', 1), ('Hail', 2), ('Wind', 47)]), OrderedDict([('Date', '2019-05-13'), ('Total', 38), ('Torn', 3), ('Hail', 21), ('Wind', 14)]), OrderedDict([('Date', '2019-05-14'), ('Total', 33), ('Torn', 0), ('Hail', 25), ('Wind', 8)]), OrderedDict([('Date', '2019-05-15'), ('Total', 53), ('Torn', 0), ('Hail', 37), ('Wind', 16)]), OrderedDict([('Date', '2019-05-16'), ('Total', 129), ('Torn', 1), ('Hail', 63), ('Wind', 65)]), OrderedDict([('Date', '2019-05-17'), ('Total', 144), ('Torn', 39), ('Hail', 72), ('Wind', 33)]), OrderedDict([('Date', '2019-05-18'), ('Total', 269), ('Torn', 28), ('Hail', 37), ('Wind', 204)]), OrderedDict([('Date', '2019-05-19'), ('Total', 169), ('Torn', 8), ('Hail', 27), ('Wind', 134)]), OrderedDict([('Date', '2019-05-20'), ('Total', 170), ('Torn', 35), ('Hail', 64), ('Wind', 71)]), OrderedDict([('Date', '2019-05-21'), ('Total', 105), ('Torn', 41), ('Hail', 16), ('Wind', 48)]), OrderedDict([('Date', '2019-05-22'), ('Total', 237), ('Torn', 43), ('Hail', 37), ('Wind', 157)]), OrderedDict([('Date', '2019-05-23'), ('Total', 225), ('Torn', 19), ('Hail', 87), ('Wind', 119)]), OrderedDict([('Date', '2019-05-24'), ('Total', 129), ('Torn', 16), ('Hail', 37), ('Wind', 76)]), OrderedDict([('Date', '2019-05-25'), ('Total', 259), ('Torn', 17), ('Hail', 58), ('Wind', 184)]), OrderedDict([('Date', '2019-05-26'), ('Total', 305), ('Torn', 36), ('Hail', 69), ('Wind', 200)]), OrderedDict([('Date', '2019-05-27'), ('Total', 225), ('Torn', 72), ('Hail', 86), ('Wind', 67)]), OrderedDict([('Date', '2019-05-28'), ('Total', 262), ('Torn', 23), ('Hail', 149), ('Wind', 90)]), OrderedDict([('Date', '2019-05-29'), ('Total', 277), ('Torn', 24), ('Hail', 45), ('Wind', 208)]), OrderedDict([('Date', '2019-05-30'), ('Total', 0), ('Torn', 0), ('Hail', 0), ('Wind', 0)])]\n"
     ]
    }
   ],
   "source": []
  },
  {
   "cell_type": "code",
   "execution_count": null,
   "metadata": {},
   "outputs": [],
   "source": []
  }
 ],
 "metadata": {
  "kernelspec": {
   "display_name": "Python 3",
   "language": "python",
   "name": "python3"
  },
  "language_info": {
   "codemirror_mode": {
    "name": "ipython",
    "version": 3
   },
   "file_extension": ".py",
   "mimetype": "text/x-python",
   "name": "python",
   "nbconvert_exporter": "python",
   "pygments_lexer": "ipython3",
   "version": "3.7.1"
  }
 },
 "nbformat": 4,
 "nbformat_minor": 2
}
