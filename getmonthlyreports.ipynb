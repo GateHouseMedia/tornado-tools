{
 "cells": [
  {
   "cell_type": "code",
   "execution_count": 1,
   "metadata": {},
   "outputs": [],
   "source": [
    "import requests\n",
    "from pyquery import PyQuery as pq\n",
    "from tqdm import tqdm\n",
    "\n",
    "import glob\n",
    "import csv\n",
    "import os\n",
    "from collections import OrderedDict\n",
    "from time import sleep\n",
    "import datetime"
   ]
  },
  {
   "cell_type": "code",
   "execution_count": 2,
   "metadata": {},
   "outputs": [],
   "source": [
    "naptime = 0.2\n",
    "MaxDaysOld = 80 # Download all monthly summaries that are less than XX days old\n",
    "baseurlpre = \"https://www.spc.noaa.gov/climo/online/monthly/\"\n",
    "baseurlpost = \"_summary.html\"\n",
    "datadir = \"data/\"\n",
    "headers = [\"Day\", \"Total\", \"Torn\", \"Hail\", \"Wind\"]\n",
    "reportname = \"MonthlyComposite.csv\""
   ]
  },
  {
   "cell_type": "code",
   "execution_count": 3,
   "metadata": {},
   "outputs": [],
   "source": [
    "timenow = datetime.datetime.now()\n",
    "yearnow = timenow.year % 100\n",
    "monthnow = timenow.month\n",
    "stufftopull = []\n",
    "for myyear in range(0, yearnow + 1):    # Start in 2000\n",
    "    for mymonth in range(0, 12 + 1):   # End every year in December\n",
    "        if myyear == yearnow and mymonth > monthnow:\n",
    "            break   # Quit trying to pull in December        \n",
    "        stufftopull.append(f\"{myyear:02d}{mymonth:02d}\")"
   ]
  },
  {
   "cell_type": "code",
   "execution_count": 5,
   "metadata": {},
   "outputs": [
    {
     "name": "stderr",
     "output_type": "stream",
     "text": [
      "100%|████████████████████████████████████████████████████████████████████████████████| 254/254 [00:05<00:00, 11.32it/s]\n"
     ]
    }
   ],
   "source": [
    "for yearmo in tqdm(stufftopull):\n",
    "    filename = f\"{datadir}Monthly{yearmo}.html\"\n",
    "    WantFile = True\n",
    "    if os.path.exists(filename):\n",
    "        filedatestamp = datetime.datetime.fromtimestamp(os.path.getmtime(filename))\n",
    "        targetdate = datetime.datetime.strptime(yearmo + \"01\", \"%y%m%d\")\n",
    "        if ((filedatestamp - targetdate).days + 2) > MaxDaysOld:\n",
    "            WantFile = False\n",
    "    if WantFile:\n",
    "        remoteurl = f\"{baseurlpre}{yearmo}{baseurlpost}\"\n",
    "        r = requests.get(remoteurl)\n",
    "        if r.status_code == 200:   # if we got a good file\n",
    "            with open(filename, \"wb\") as f:\n",
    "                f.write(r.content)\n",
    "            sleep(naptime)\n"
   ]
  },
  {
   "cell_type": "code",
   "execution_count": 6,
   "metadata": {},
   "outputs": [],
   "source": [
    "masterlist = []\n",
    "monthlyreports = list(glob.glob(datadir + \"Monthly*.html\"))\n",
    "for monthlyreport in monthlyreports:\n",
    "    with open(monthlyreport, \"r\") as f:\n",
    "        html = f.read()\n",
    "    table = pq(html)(\"table\")[8]\n",
    "    for row in pq(table)(\"tr\")[1:-1]:    # Skip header and total row\n",
    "        line = OrderedDict()\n",
    "        datetemp = pq(pq(row)(\"td\")[0]).text().strip().split(\"/\")\n",
    "        line['Date'] = f\"{datetemp[2]}-{datetemp[0]}-{datetemp[1]}\"\n",
    "        for i, cell in enumerate(pq(row)(\"td\")[1:]):   \n",
    "            line[headers[i + 1]] = int(pq(cell).text().strip())\n",
    "        masterlist.append(line)"
   ]
  },
  {
   "cell_type": "code",
   "execution_count": 7,
   "metadata": {},
   "outputs": [],
   "source": [
    "with open(reportname, \"w\", newline=\"\") as f:\n",
    "    writer = csv.writer(f)\n",
    "    writer.writerow(headers)\n",
    "    for row in masterlist:\n",
    "        writer.writerow(list(row.values()))"
   ]
  },
  {
   "cell_type": "code",
   "execution_count": null,
   "metadata": {},
   "outputs": [],
   "source": []
  },
  {
   "cell_type": "code",
   "execution_count": null,
   "metadata": {},
   "outputs": [],
   "source": []
  }
 ],
 "metadata": {
  "kernelspec": {
   "display_name": "Python 3",
   "language": "python",
   "name": "python3"
  },
  "language_info": {
   "codemirror_mode": {
    "name": "ipython",
    "version": 3
   },
   "file_extension": ".py",
   "mimetype": "text/x-python",
   "name": "python",
   "nbconvert_exporter": "python",
   "pygments_lexer": "ipython3",
   "version": "3.7.1"
  }
 },
 "nbformat": 4,
 "nbformat_minor": 2
}
